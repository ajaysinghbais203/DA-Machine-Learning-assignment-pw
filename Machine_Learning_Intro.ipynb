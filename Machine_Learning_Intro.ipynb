{
  "nbformat": 4,
  "nbformat_minor": 0,
  "metadata": {
    "colab": {
      "provenance": []
    },
    "kernelspec": {
      "name": "python3",
      "display_name": "Python 3"
    },
    "language_info": {
      "name": "python"
    }
  },
  "cells": [
    {
      "cell_type": "markdown",
      "source": [
        "# Machine learning intro Assignment\n",
        "\n",
        "\n",
        "**Question 1: Explain the differences between AI, ML, Deep Learning (DL), and Data Science (DS).**\n",
        "\n",
        "**Answer:**\n",
        "\n",
        "Artificial Intelligence (AI) is the broadest field. It's the concept of creating machines that can think and act like humans. This includes things like problem-solving, speech recognition, and decision-making. Think of it as the ultimate goal.\n",
        "\n",
        "Machine Learning (ML) is a subset of AI. It involves the use of algorithms that learn from data without being explicitly programmed. Instead of hard-coding rules, you give the model data and it learns the patterns itself. For example, a spam filter learns to identify spam by analyzing thousands of emails.\n",
        "\n",
        "Deep Learning (DL) is a more specialized subset of ML. It uses complex algorithms, specifically neural networks with multiple layers (hence \"deep\"), to find intricate patterns in data. DL is particularly effective for tasks like image and speech recognition, where the patterns are too complex for traditional ML.\n",
        "\n",
        "Data Science (DS) is a multidisciplinary field that uses scientific methods, processes, algorithms, and systems to extract knowledge and insights from structured and unstructured data. It combines elements of statistics, computer science, and domain expertise to solve real-world problems. While it uses ML and DL techniques, it also includes aspects like data cleaning, data visualization, and business intelligence.\n",
        "\n",
        "**Question 2: What are the types of machine learning? Describe each with one real-world example.**\n",
        "\n",
        "**Answer:**\n",
        "\n",
        "The three main types of machine learning are:\n",
        "\n",
        "Supervised Learning: This is when an algorithm learns from labeled data, meaning the input data is paired with the correct output. The goal is to learn a mapping from inputs to outputs.\n",
        "\n",
        "Example: A model trained to predict house prices based on features like size, number of bedrooms, and location. The training data includes past house sales with their actual prices (the labels).\n",
        "Unsupervised Learning: This type of learning involves training an algorithm on unlabeled data. The goal is to find hidden patterns or structures in the data on its own.\n",
        "\n",
        "Example: Grouping customers into different segments (e.g., \"high-value,\" \"frequent buyers,\" etc.) based on their purchasing behavior without any pre-defined categories. This is called clustering.\n",
        "Reinforcement Learning: This is a type of ML where an agent learns to make decisions in an environment to maximize a reward signal. It learns through a process of trial and error.\n",
        "\n",
        "Example: An AI playing a game like chess. It learns which moves are good (reward) and which are bad (penalty) by playing against itself or other players, eventually becoming a master.\n",
        "\n",
        "**Question 3: Define overfitting, underfitting, and the bias-variance tradeoff in machine learning.**\n",
        "\n",
        "**Answer:**\n",
        "\n",
        "Overfitting: This happens when a model learns the training data too well, including the noise and random fluctuations. While it performs great on the training data, it performs poorly on new, unseen data because it fails to generalize. It's like memorizing the answers to a test without understanding the concepts.\n",
        "\n",
        "Underfitting: This occurs when a model is too simple to capture the underlying patterns in the training data. It performs poorly on both the training and test data because it has not learned the fundamental relationship between the features and the target. It's like not studying enough for a test.\n",
        "\n",
        "Bias-Variance Tradeoff: This is a central concept in machine learning.\n",
        "\n",
        "Bias is the simplifying assumptions made by a model to make the target function easier to learn. High bias models are overly simple and tend to underfit.\n",
        "\n",
        "Variance is the sensitivity of the model to fluctuations in the training data. High variance models are complex and tend to overfit.\n",
        "\n",
        "The tradeoff is the balance between these two. A good model strikes a balance between bias and variance, avoiding both underfitting and overfitting to achieve optimal performance on new data.\n",
        "\n",
        "**Question 4: What are outliers in a dataset, and list three common techniques for handling them.**\n",
        "\n",
        "**Answer:**\n",
        "\n",
        "An outlier is a data point that is significantly different from other observations in the dataset. They can occur due to measurement errors, data entry mistakes, or they might be genuine, rare events.\n",
        "\n",
        "Three common techniques for handling outliers are:\n",
        "\n",
        "Removal: The simplest method is to remove the outlier data points entirely. This is often done when the outlier is clearly a data entry error. However, it's not ideal if the outliers represent important information or if the dataset is small.\n",
        "\n",
        "Transformation: You can apply mathematical transformations to the data to reduce the impact of outliers. Common transformations include the logarithmic transformation or square root transformation, which compress the range of values and can make the data less skewed.\n",
        "\n",
        "Imputation: Instead of removing outliers, you can replace them with a more representative value, such as the mean, median, or mode of the feature. The median is often a better choice than the mean because it's less sensitive to the extreme value of the outlier itself.\n",
        "\n",
        "**Question 5: Explain the process of handling missing values and mention one imputation technique for numerical and one for categorical data.**\n",
        "\n",
        "**Answer:**\n",
        "\n",
        "Handling missing values is the process of dealing with \"empty\" data points in a dataset. Missing values can disrupt the performance of machine learning models, so they need to be addressed before training. The process typically involves either removing the data (if there are very few missing values) or, more commonly, imputing them, which means replacing the missing data with a substitute value.\n",
        "\n",
        "Imputation technique for numerical data: A common and simple technique is to replace the missing values with the median of the column. The median is robust to outliers and provides a good central tendency measure for the data.\n",
        "\n",
        "Imputation technique for categorical data: For categorical data, a common technique is to replace missing values with the mode (the most frequent category) of the column. This approach is simple and ensures the imputed value is a valid category."
      ],
      "metadata": {
        "id": "cXdLH2elFSRI"
      }
    },
    {
      "cell_type": "code",
      "source": [
        "#Question.6) Write a Python program that: ● Creates a synthetic imbalanced dataset with make_classification() from sklearn.datasets. ● Prints the class distribution. (Include your Python code and output in the code box below.)\n",
        "from sklearn.datasets import make_classification\n",
        "from collections import Counter\n",
        "\n",
        "# Create a synthetic imbalanced dataset\n",
        "X, y = make_classification(n_classes=2, class_sep=2,\n",
        "                       \tweights=[0.9, 0.1], n_informative=3,\n",
        "                       \tn_redundant=1, flip_y=0,\n",
        "                       \tn_features=5, n_clusters_per_class=1,\n",
        "                       \tn_samples=1000, random_state=42)\n",
        "\n",
        "# Print the class distribution\n",
        "class_distribution = Counter(y)\n",
        "print(\"Class distribution:\", class_distribution)\n"
      ],
      "metadata": {
        "colab": {
          "base_uri": "https://localhost:8080/"
        },
        "id": "aXtOaHhCHxPe",
        "outputId": "74749ec9-4ae2-433c-f10d-01d0b4526bcd"
      },
      "execution_count": 1,
      "outputs": [
        {
          "output_type": "stream",
          "name": "stdout",
          "text": [
            "Class distribution: Counter({np.int64(0): 900, np.int64(1): 100})\n"
          ]
        }
      ]
    },
    {
      "cell_type": "code",
      "source": [
        "#Question.7) Implement one-hot encoding using pandas for the following list of colors: ['Red', 'Green', 'Blue', 'Green', 'Red']. Print the resulting dataframe. (Include your Python code and output in the code box below.)\n",
        "import pandas as pd\n",
        "# List of colors\n",
        "colors = ['Red', 'Green', 'Blue', 'Green', 'Red']\n",
        "# Create a DataFrame\n",
        "df = pd.DataFrame({'Color': colors})\n",
        "# Apply one-hot encoding\n",
        "one_hot_encoded_df = pd.get_dummies(df, columns=['Color'])\n",
        "# Print the resulting DataFrame\n",
        "print(one_hot_encoded_df)\n",
        "\n",
        ""
      ],
      "metadata": {
        "colab": {
          "base_uri": "https://localhost:8080/"
        },
        "id": "hSzDfrszHxOP",
        "outputId": "7d5857ea-badc-4cb6-bd47-0381bddc8fdb"
      },
      "execution_count": 2,
      "outputs": [
        {
          "output_type": "stream",
          "name": "stdout",
          "text": [
            "   Color_Blue  Color_Green  Color_Red\n",
            "0       False        False       True\n",
            "1       False         True      False\n",
            "2        True        False      False\n",
            "3       False         True      False\n",
            "4       False        False       True\n"
          ]
        }
      ]
    },
    {
      "cell_type": "code",
      "source": [
        "#Question.8) Write a Python script to: ● Generate 1000 samples from a normal distribution. ● Introduce 50 random missing values. ● Fill missing values with the column mean. ● Plot a histogram before and after imputation. (Include your Python code and output in the code box below.)\n",
        "import numpy as np\n",
        "import pandas as pd\n",
        "import matplotlib.pyplot as plt\n",
        "\n",
        "# Step 1: Generate 1000 samples from a normal distribution\n",
        "data = np.random.normal(loc=0, scale=1, size=1000)\n",
        "\n",
        "# Step 2: Introduce 50 random missing values\n",
        "data_with_nan = data.copy()\n",
        "missing_indices = np.random.choice(len(data_with_nan), size=50, replace=False)\n",
        "data_with_nan[missing_indices] = np.nan\n",
        "\n",
        "# Step 3: Fill missing values with the column mean\n",
        "mean_value = np.nanmean(data_with_nan)\n",
        "data_imputed = np.where(np.isnan(data_with_nan), mean_value, data_with_nan)\n",
        "\n",
        "# Step 4: Plot histograms before and after imputation\n",
        "plt.figure(figsize=(12, 6))\n",
        "\n",
        "plt.subplot(1, 2, 1)\n",
        "plt.hist(data_with_nan[~np.isnan(data_with_nan)], bins=30, color='skyblue', edgecolor='black')\n",
        "plt.title('Histogram Before Imputation')\n",
        "plt.xlabel('Value')\n",
        "plt.ylabel('Frequency')\n",
        "\n",
        "plt.subplot(1, 2, 2)\n",
        "plt.hist(data_imputed, bins=30, color='salmon', edgecolor='black')\n",
        "plt.title('Histogram After Imputation')\n",
        "plt.xlabel('Value')\n",
        "plt.ylabel('Frequency')\n",
        "\n",
        "plt.tight_layout()\n",
        "plt.show()\n",
        "\n",
        ""
      ],
      "metadata": {
        "colab": {
          "base_uri": "https://localhost:8080/",
          "height": 607
        },
        "id": "v5giEFMqHxIT",
        "outputId": "f807a5c3-5488-4636-953e-3dd660ca787f"
      },
      "execution_count": 3,
      "outputs": [
        {
          "output_type": "display_data",
          "data": {
            "text/plain": [
              "<Figure size 1200x600 with 2 Axes>"
            ],
            "image/png": "[encoded data removed]"
          },
          "metadata": {}
        }
      ]
    },
    {
      "cell_type": "code",
      "source": [
        "#Question.9) Implement Min-Max scaling on the following list of numbers [2, 5, 10, 15, 20] using sklearn.preprocessing.MinMaxScaler. Print the scaled array. (Include your Python code and output in the code box below.)\n",
        "from sklearn.preprocessing import MinMaxScaler\n",
        "import numpy as np\n",
        "# Original data\n",
        "data = np.array([[2], [5], [10], [15], [20]])\n",
        "# Initialize the MinMaxScaler\n",
        "scaler = MinMaxScaler()\n",
        "# Fit and transform the data\n",
        "scaled_data = scaler.fit_transform(data)\n",
        "# Print the scaled array\n",
        "print(\"Scaled array:\")\n",
        "print(scaled_data)\n",
        "\n",
        ""
      ],
      "metadata": {
        "colab": {
          "base_uri": "https://localhost:8080/"
        },
        "id": "WdwL9-tZHxHQ",
        "outputId": "01b9363b-9fb9-45f0-d100-40b57ff7c632"
      },
      "execution_count": 4,
      "outputs": [
        {
          "output_type": "stream",
          "name": "stdout",
          "text": [
            "Scaled array:\n",
            "[[0.        ]\n",
            " [0.16666667]\n",
            " [0.44444444]\n",
            " [0.72222222]\n",
            " [1.        ]]\n"
          ]
        }
      ]
    },
    {
      "cell_type": "markdown",
      "source": [
        "**Question 10: You are working as a data scientist for a retail company. You receive a customer transaction dataset that contains:**\n",
        "● Missing ages,\n",
        "\n",
        "● Outliers in transaction amount,\n",
        "\n",
        "● A highly imbalanced target (fraud vs. non-fraud),\n",
        "\n",
        "● Categorical variables like payment method.\n",
        "\n",
        "Explain the step-by-step data preparation plan you’d follow before training a machine learning model. Include how you’d address missing data, outliers, imbalance, and encoding.\n",
        "\n",
        "**Answer:**\n",
        "\n",
        "The step-by-step data preparation plan for the given retail dataset would involve addressing missing data, outliers, class imbalance, and categorical variables in a logical sequence before training a machine learning model.\n",
        "\n",
        "1. Handling Missing Data (Missing Ages)\n",
        "\n",
        "First, I'd address the missing values in the 'age' column. Since age is a numerical variable, a common and robust approach is to replace the missing values with the median. The median is a better choice than the mean because it's less sensitive to potential outliers in the age data, ensuring the imputed value doesn't skew the overall distribution.\n",
        "\n",
        "2. Handling Outliers (Transaction Amount)\n",
        "\n",
        "Next, I'd handle the outliers in the 'transaction amount'. I would first visualize the data to understand the nature of these outliers. If they are genuine but extreme values, a logarithmic transformation is an effective way to compress the range of values and reduce the impact of these large transactions on the model without discarding the data. This transformation makes the data distribution more normal-like. If the outliers are clear data entry errors, I would cap them at a reasonable percentile (e.g., the 99th percentile) or remove them if they are few.\n",
        "\n",
        "3. Encoding Categorical Variables (Payment Method)\n",
        "\n",
        "I would then convert the categorical variable 'payment method' into a numerical format that machine learning models can understand. The best technique for this is one-hot encoding. This creates new binary columns for each unique category (e.g., one for 'Credit Card', one for 'Debit Card'), where a '1' indicates the presence of that category and a '0' indicates its absence. This avoids creating an artificial ordinal relationship between the categories.\n",
        "\n",
        "4. Handling Class Imbalance (Fraud vs. Non-Fraud)\n",
        "\n",
        "The dataset has a highly imbalanced target variable. I would use Oversampling on the minority class (fraud). A powerful technique for this is SMOTE (Synthetic Minority Over-sampling Technique). SMOTE generates synthetic examples of the minority class, helping to balance the class distribution. This is critical for preventing the model from being biased towards the majority class and ensuring it can effectively detect rare fraudulent transactions.\n",
        "\n",
        "5. Feature Scaling\n",
        "\n",
        "Finally, after all the above steps, I would perform feature scaling on the numerical features like 'age' and 'transaction amount' (after the transformation). This step is important for many machine learning algorithms that are sensitive to the scale of input features. I would use Min-Max Scaling to transform the features to a common range (typically 0 to 1), ensuring that no single feature dominates the learning process due to its larger magnitude."
      ],
      "metadata": {
        "id": "xLlFsMfbI3v9"
      }
    },
    {
      "cell_type": "code",
      "source": [
        "import pandas as pd\n",
        "import numpy as np\n",
        "from sklearn.impute import SimpleImputer\n",
        "from sklearn.preprocessing import OneHotEncoder, MinMaxScaler\n",
        "from sklearn.utils import resample\n",
        "# Simulate dataset\n",
        "data = {\n",
        "    'Age': [25, np.nan, 35, 45, np.nan, 30, 40, 50, np.nan, 60],\n",
        "    'TransactionAmount': [100, 200, 150, 100000, 250, 300, 120, 50000, 180, 220],\n",
        "    'PaymentMethod': ['Credit', 'Debit', 'Cash', 'Credit', 'Cash', 'Debit', 'Credit', 'Cash', 'Debit', 'Credit'],\n",
        "    'IsFraud': [0, 0, 0, 1, 0, 0, 0, 1, 0, 0]\n",
        "}\n",
        "df = pd.DataFrame(data)\n",
        "# Step 1: Impute missing ages\n",
        "imputer = SimpleImputer(strategy='mean')\n",
        "df['Age'] = imputer.fit_transform(df[['Age']])\n",
        "# Step 2: Treat outliers in TransactionAmount\n",
        "Q1 = df['TransactionAmount'].quantile(0.25)\n",
        "Q3 = df['TransactionAmount'].quantile(0.75)\n",
        "IQR = Q3 - Q1\n",
        "lower_bound = Q1 - 1.5 * IQR\n",
        "upper_bound = Q3 + 1.5 * IQR\n",
        "df['TransactionAmount'] = np.where(df['TransactionAmount'] > upper_bound, upper_bound,\n",
        "                                   np.where(df['TransactionAmount'] < lower_bound, lower_bound, df['TransactionAmount']))\n",
        "# Step 3: One-hot encode PaymentMethod\n",
        "encoder = OneHotEncoder(sparse_output=False)\n",
        "encoded = encoder.fit_transform(df[['PaymentMethod']])\n",
        "encoded_df = pd.DataFrame(encoded, columns=encoder.get_feature_names_out(['PaymentMethod']))\n",
        "df = pd.concat([df.drop('PaymentMethod', axis=1), encoded_df], axis=1)\n",
        "# Step 4: Handle class imbalance\n",
        "df_majority = df[df.IsFraud == 0]\n",
        "df_minority = df[df.IsFraud == 1]\n",
        "df_minority_upsampled = resample(df_minority, replace=True, n_samples=len(df_majority), random_state=42)\n",
        "df_balanced = pd.concat([df_majority, df_minority_upsampled])\n",
        "# Step 5: Scale numerical features\n",
        "scaler = MinMaxScaler()\n",
        "df_balanced[['Age', 'TransactionAmount']] = scaler.fit_transform(df_balanced[['Age', 'TransactionAmount']])\n",
        "# Final output\n",
        "print(\"Prepared DataFrame:\")\n",
        "print(df_balanced)\n",
        "\n",
        ""
      ],
      "metadata": {
        "colab": {
          "base_uri": "https://localhost:8080/"
        },
        "id": "0c4ZcZ-dHw9x",
        "outputId": "7b50ffcf-92f0-450f-f674-377376098823"
      },
      "execution_count": 5,
      "outputs": [
        {
          "output_type": "stream",
          "name": "stdout",
          "text": [
            "Prepared DataFrame:\n",
            "        Age  TransactionAmount  IsFraud  PaymentMethod_Cash  \\\n",
            "0  0.000000           0.000000        0                 0.0   \n",
            "1  0.448980           0.261438        0                 0.0   \n",
            "2  0.285714           0.130719        0                 1.0   \n",
            "4  0.448980           0.392157        0                 1.0   \n",
            "5  0.142857           0.522876        0                 0.0   \n",
            "6  0.428571           0.052288        0                 0.0   \n",
            "8  0.448980           0.209150        0                 0.0   \n",
            "9  1.000000           0.313725        0                 0.0   \n",
            "3  0.571429           1.000000        1                 0.0   \n",
            "7  0.714286           1.000000        1                 1.0   \n",
            "3  0.571429           1.000000        1                 0.0   \n",
            "3  0.571429           1.000000        1                 0.0   \n",
            "3  0.571429           1.000000        1                 0.0   \n",
            "7  0.714286           1.000000        1                 1.0   \n",
            "3  0.571429           1.000000        1                 0.0   \n",
            "3  0.571429           1.000000        1                 0.0   \n",
            "\n",
            "   PaymentMethod_Credit  PaymentMethod_Debit  \n",
            "0                   1.0                  0.0  \n",
            "1                   0.0                  1.0  \n",
            "2                   0.0                  0.0  \n",
            "4                   0.0                  0.0  \n",
            "5                   0.0                  1.0  \n",
            "6                   1.0                  0.0  \n",
            "8                   0.0                  1.0  \n",
            "9                   1.0                  0.0  \n",
            "3                   1.0                  0.0  \n",
            "7                   0.0                  0.0  \n",
            "3                   1.0                  0.0  \n",
            "3                   1.0                  0.0  \n",
            "3                   1.0                  0.0  \n",
            "7                   0.0                  0.0  \n",
            "3                   1.0                  0.0  \n",
            "3                   1.0                  0.0  \n"
          ]
        }
      ]
    }
  ]
}